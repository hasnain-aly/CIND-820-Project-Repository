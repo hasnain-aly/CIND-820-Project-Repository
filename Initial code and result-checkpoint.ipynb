{
 "cells": [
  {
   "cell_type": "code",
   "execution_count": 113,
   "id": "e3a9bc01",
   "metadata": {},
   "outputs": [],
   "source": [
    "import numpy as np # linear algebra\n",
    "import pandas as pd # data processing, CSV file I/O (e.g. pd.read_csv)\n",
    "import seaborn as sns # data visualization \n",
    "import matplotlib.ticker as ticker\n",
    "from sklearn.cluster import KMeans\n",
    "from sklearn.preprocessing import normalize\n",
    "from sklearn.model_selection import cross_val_score"
   ]
  },
  {
   "cell_type": "code",
   "execution_count": 87,
   "id": "f4bd37e2",
   "metadata": {},
   "outputs": [
    {
     "data": {
      "text/html": [
       "<div>\n",
       "<style scoped>\n",
       "    .dataframe tbody tr th:only-of-type {\n",
       "        vertical-align: middle;\n",
       "    }\n",
       "\n",
       "    .dataframe tbody tr th {\n",
       "        vertical-align: top;\n",
       "    }\n",
       "\n",
       "    .dataframe thead th {\n",
       "        text-align: right;\n",
       "    }\n",
       "</style>\n",
       "<table border=\"1\" class=\"dataframe\">\n",
       "  <thead>\n",
       "    <tr style=\"text-align: right;\">\n",
       "      <th></th>\n",
       "      <th>rank</th>\n",
       "      <th>name</th>\n",
       "      <th>revenues</th>\n",
       "      <th>revenue_percent_change</th>\n",
       "      <th>profits</th>\n",
       "      <th>profits_percent_change</th>\n",
       "      <th>assets</th>\n",
       "      <th>market_value</th>\n",
       "      <th>change_in_rank</th>\n",
       "      <th>employees</th>\n",
       "    </tr>\n",
       "  </thead>\n",
       "  <tbody>\n",
       "    <tr>\n",
       "      <th>0</th>\n",
       "      <td>1</td>\n",
       "      <td>Walmart</td>\n",
       "      <td>$572,754</td>\n",
       "      <td>2.40%</td>\n",
       "      <td>$13,673</td>\n",
       "      <td>1.20%</td>\n",
       "      <td>$244,860</td>\n",
       "      <td>$409,795</td>\n",
       "      <td>-</td>\n",
       "      <td>2,300,000</td>\n",
       "    </tr>\n",
       "    <tr>\n",
       "      <th>1</th>\n",
       "      <td>2</td>\n",
       "      <td>Amazon</td>\n",
       "      <td>$469,822</td>\n",
       "      <td>21.70%</td>\n",
       "      <td>$33,364</td>\n",
       "      <td>56.40%</td>\n",
       "      <td>$420,549</td>\n",
       "      <td>$1,658,807.30</td>\n",
       "      <td>-</td>\n",
       "      <td>1,608,000</td>\n",
       "    </tr>\n",
       "    <tr>\n",
       "      <th>2</th>\n",
       "      <td>3</td>\n",
       "      <td>Apple</td>\n",
       "      <td>$365,817</td>\n",
       "      <td>33.30%</td>\n",
       "      <td>$94,680</td>\n",
       "      <td>64.90%</td>\n",
       "      <td>$351,002</td>\n",
       "      <td>$2,849,537.60</td>\n",
       "      <td>-</td>\n",
       "      <td>154,000</td>\n",
       "    </tr>\n",
       "    <tr>\n",
       "      <th>3</th>\n",
       "      <td>4</td>\n",
       "      <td>CVS Health</td>\n",
       "      <td>$292,111</td>\n",
       "      <td>8.70%</td>\n",
       "      <td>$7,910</td>\n",
       "      <td>10.20%</td>\n",
       "      <td>$232,999</td>\n",
       "      <td>$132,839.20</td>\n",
       "      <td>-</td>\n",
       "      <td>258,000</td>\n",
       "    </tr>\n",
       "    <tr>\n",
       "      <th>4</th>\n",
       "      <td>5</td>\n",
       "      <td>UnitedHealth Group</td>\n",
       "      <td>$287,597</td>\n",
       "      <td>11.80%</td>\n",
       "      <td>$17,285</td>\n",
       "      <td>12.20%</td>\n",
       "      <td>$212,206</td>\n",
       "      <td>$479,830.30</td>\n",
       "      <td>-</td>\n",
       "      <td>350,000</td>\n",
       "    </tr>\n",
       "    <tr>\n",
       "      <th>5</th>\n",
       "      <td>6</td>\n",
       "      <td>Exxon Mobil</td>\n",
       "      <td>$285,640</td>\n",
       "      <td>57.40%</td>\n",
       "      <td>$23,040</td>\n",
       "      <td>-</td>\n",
       "      <td>$338,923</td>\n",
       "      <td>$349,652.40</td>\n",
       "      <td>4</td>\n",
       "      <td>63,000</td>\n",
       "    </tr>\n",
       "    <tr>\n",
       "      <th>6</th>\n",
       "      <td>7</td>\n",
       "      <td>Berkshire Hathaway</td>\n",
       "      <td>$276,094</td>\n",
       "      <td>12.50%</td>\n",
       "      <td>$89,795</td>\n",
       "      <td>111.20%</td>\n",
       "      <td>$958,784</td>\n",
       "      <td>$779,542.30</td>\n",
       "      <td>-1</td>\n",
       "      <td>372,000</td>\n",
       "    </tr>\n",
       "    <tr>\n",
       "      <th>7</th>\n",
       "      <td>8</td>\n",
       "      <td>Alphabet</td>\n",
       "      <td>$257,637</td>\n",
       "      <td>41.20%</td>\n",
       "      <td>$76,033</td>\n",
       "      <td>88.80%</td>\n",
       "      <td>$359,268</td>\n",
       "      <td>$1,842,326.10</td>\n",
       "      <td>1</td>\n",
       "      <td>156,500</td>\n",
       "    </tr>\n",
       "    <tr>\n",
       "      <th>8</th>\n",
       "      <td>9</td>\n",
       "      <td>McKesson</td>\n",
       "      <td>$238,228</td>\n",
       "      <td>3.10%</td>\n",
       "      <td>-$4,539</td>\n",
       "      <td>-604.30%</td>\n",
       "      <td>$65,015</td>\n",
       "      <td>$45,857.80</td>\n",
       "      <td>-2</td>\n",
       "      <td>67,500</td>\n",
       "    </tr>\n",
       "    <tr>\n",
       "      <th>9</th>\n",
       "      <td>10</td>\n",
       "      <td>AmerisourceBergen</td>\n",
       "      <td>$213,988.80</td>\n",
       "      <td>12.70%</td>\n",
       "      <td>$1,539.90</td>\n",
       "      <td>-</td>\n",
       "      <td>$57,337.80</td>\n",
       "      <td>$32,355.70</td>\n",
       "      <td>-2</td>\n",
       "      <td>40,000</td>\n",
       "    </tr>\n",
       "  </tbody>\n",
       "</table>\n",
       "</div>"
      ],
      "text/plain": [
       "  rank                name     revenues  revenue_percent_change   profits   \\\n",
       "0     1             Walmart     $572,754                  2.40%    $13,673   \n",
       "1     2              Amazon     $469,822                 21.70%    $33,364   \n",
       "2     3               Apple     $365,817                 33.30%    $94,680   \n",
       "3     4          CVS Health     $292,111                  8.70%     $7,910   \n",
       "4     5  UnitedHealth Group     $287,597                 11.80%    $17,285   \n",
       "5     6         Exxon Mobil     $285,640                 57.40%    $23,040   \n",
       "6     7  Berkshire Hathaway     $276,094                 12.50%    $89,795   \n",
       "7     8            Alphabet     $257,637                 41.20%    $76,033   \n",
       "8     9            McKesson     $238,228                  3.10%    -$4,539   \n",
       "9    10   AmerisourceBergen  $213,988.80                 12.70%  $1,539.90   \n",
       "\n",
       "  profits_percent_change      assets  market_value  change_in_rank employees   \n",
       "0                  1.20%    $244,860       $409,795              -  2,300,000  \n",
       "1                 56.40%    $420,549  $1,658,807.30              -  1,608,000  \n",
       "2                 64.90%    $351,002  $2,849,537.60              -    154,000  \n",
       "3                 10.20%    $232,999    $132,839.20              -    258,000  \n",
       "4                 12.20%    $212,206    $479,830.30              -    350,000  \n",
       "5                      -    $338,923    $349,652.40              4     63,000  \n",
       "6                111.20%    $958,784    $779,542.30             -1    372,000  \n",
       "7                 88.80%    $359,268  $1,842,326.10              1    156,500  \n",
       "8               -604.30%     $65,015     $45,857.80             -2     67,500  \n",
       "9                      -  $57,337.80     $32,355.70             -2     40,000  "
      ]
     },
     "execution_count": 87,
     "metadata": {},
     "output_type": "execute_result"
    }
   ],
   "source": [
    "data = pd.read_csv(r\"C:\\Users\\mianh\\Fortune 1000 Companies by Revenue.csv\")\n",
    "data.head(10)"
   ]
  },
  {
   "cell_type": "code",
   "execution_count": 88,
   "id": "9fdd03e6",
   "metadata": {},
   "outputs": [],
   "source": [
    "clean_cols =  data.columns.str.strip()\n",
    "data.columns = clean_cols"
   ]
  },
  {
   "cell_type": "code",
   "execution_count": 89,
   "id": "40f663c8",
   "metadata": {
    "scrolled": true
   },
   "outputs": [
    {
     "name": "stdout",
     "output_type": "stream",
     "text": [
      "Column Sucessfully Modified: revenues\n",
      "Column Sucessfully Modified: profits\n",
      "Column Sucessfully Modified: assets\n",
      "Column Sucessfully Modified: market_value\n",
      "Column Sucessfully Modified: revenue_percent_change\n",
      "Column Sucessfully Modified: profits_percent_change\n",
      "Column Sucessfully Modified: employees\n"
     ]
    }
   ],
   "source": [
    "# Cleaning cloumns\n",
    "col_2_convert = [ 'revenues', 'profits', 'assets', 'market_value', 'revenue_percent_change', 'profits_percent_change','employees']\n",
    "remove_symbols = ['$', '%',',','(',')']\n",
    "\n",
    "def CleanColumns(df, cols):\n",
    "    for col in cols:\n",
    "        if pd.api.types.is_object_dtype(df[col]):\n",
    "            if type(df[col]) != type(float):\n",
    "                for sym in remove_symbols:\n",
    "                    df[col] = df[col].str.replace(sym, \"\", regex = True)\n",
    "                df[col] = df[col].str.strip()\n",
    "                df[col] = df[col].astype('string')\n",
    "                df[col] = df[col].fillna(0)\n",
    "                try:\n",
    "                    df[col] =pd.to_numeric(df[col], errors='coerce')\n",
    "                    print(\"Column Sucessfully Modified: \" + col )\n",
    "                except:\n",
    "                        print(\"Seems to be an issue with column \" + col)\n",
    "    return df\n",
    "data = CleanColumns(data, col_2_convert)"
   ]
  },
  {
   "cell_type": "code",
   "execution_count": 90,
   "id": "0ad1d42f",
   "metadata": {},
   "outputs": [],
   "source": [
    "# Changing Percentages to Decimal\n",
    "per_cols = ['profits_percent_change', 'revenue_percent_change']\n",
    "for col in per_cols:\n",
    "    data[col] = data[col] / 100"
   ]
  },
  {
   "cell_type": "code",
   "execution_count": 91,
   "id": "7df79d65",
   "metadata": {},
   "outputs": [
    {
     "name": "stdout",
     "output_type": "stream",
     "text": [
      "<class 'pandas.core.frame.DataFrame'>\n",
      "RangeIndex: 1000 entries, 0 to 999\n",
      "Data columns (total 10 columns):\n",
      " #   Column                  Non-Null Count  Dtype  \n",
      "---  ------                  --------------  -----  \n",
      " 0   rank                    1000 non-null   object \n",
      " 1   name                    1000 non-null   object \n",
      " 2   revenues                1000 non-null   float64\n",
      " 3   revenue_percent_change  992 non-null    float64\n",
      " 4   profits                 997 non-null    float64\n",
      " 5   profits_percent_change  727 non-null    float64\n",
      " 6   assets                  1000 non-null   float64\n",
      " 7   market_value            955 non-null    float64\n",
      " 8   change_in_rank          1000 non-null   object \n",
      " 9   employees               999 non-null    float64\n",
      "dtypes: float64(7), object(3)\n",
      "memory usage: 78.2+ KB\n"
     ]
    }
   ],
   "source": [
    "data.info()"
   ]
  },
  {
   "cell_type": "code",
   "execution_count": 92,
   "id": "495b2758",
   "metadata": {},
   "outputs": [],
   "source": [
    "data.columns = ['Rank','Name', 'Revenues_22', 'Rev_Change', 'Profits_22', 'Profits_Change', 'Assets', 'Market_V', 'Rank_Change', 'Employees']"
   ]
  },
  {
   "cell_type": "code",
   "execution_count": 93,
   "id": "63e0cd9f",
   "metadata": {
    "scrolled": true
   },
   "outputs": [
    {
     "data": {
      "text/html": [
       "<div>\n",
       "<style scoped>\n",
       "    .dataframe tbody tr th:only-of-type {\n",
       "        vertical-align: middle;\n",
       "    }\n",
       "\n",
       "    .dataframe tbody tr th {\n",
       "        vertical-align: top;\n",
       "    }\n",
       "\n",
       "    .dataframe thead th {\n",
       "        text-align: right;\n",
       "    }\n",
       "</style>\n",
       "<table border=\"1\" class=\"dataframe\">\n",
       "  <thead>\n",
       "    <tr style=\"text-align: right;\">\n",
       "      <th></th>\n",
       "      <th>Rank</th>\n",
       "      <th>Name</th>\n",
       "      <th>Revenues_22</th>\n",
       "      <th>Rev_Change</th>\n",
       "      <th>Profits_22</th>\n",
       "      <th>Profits_Change</th>\n",
       "      <th>Assets</th>\n",
       "      <th>Market_V</th>\n",
       "      <th>Rank_Change</th>\n",
       "      <th>Employees</th>\n",
       "    </tr>\n",
       "  </thead>\n",
       "  <tbody>\n",
       "    <tr>\n",
       "      <th>0</th>\n",
       "      <td>1</td>\n",
       "      <td>Walmart</td>\n",
       "      <td>572754.0</td>\n",
       "      <td>0.024</td>\n",
       "      <td>13673.0</td>\n",
       "      <td>0.012</td>\n",
       "      <td>244860.0</td>\n",
       "      <td>409795.0</td>\n",
       "      <td>-</td>\n",
       "      <td>2300000.0</td>\n",
       "    </tr>\n",
       "    <tr>\n",
       "      <th>1</th>\n",
       "      <td>2</td>\n",
       "      <td>Amazon</td>\n",
       "      <td>469822.0</td>\n",
       "      <td>0.217</td>\n",
       "      <td>33364.0</td>\n",
       "      <td>0.564</td>\n",
       "      <td>420549.0</td>\n",
       "      <td>1658807.3</td>\n",
       "      <td>-</td>\n",
       "      <td>1608000.0</td>\n",
       "    </tr>\n",
       "    <tr>\n",
       "      <th>2</th>\n",
       "      <td>3</td>\n",
       "      <td>Apple</td>\n",
       "      <td>365817.0</td>\n",
       "      <td>0.333</td>\n",
       "      <td>94680.0</td>\n",
       "      <td>0.649</td>\n",
       "      <td>351002.0</td>\n",
       "      <td>2849537.6</td>\n",
       "      <td>-</td>\n",
       "      <td>154000.0</td>\n",
       "    </tr>\n",
       "    <tr>\n",
       "      <th>3</th>\n",
       "      <td>4</td>\n",
       "      <td>CVS Health</td>\n",
       "      <td>292111.0</td>\n",
       "      <td>0.087</td>\n",
       "      <td>7910.0</td>\n",
       "      <td>0.102</td>\n",
       "      <td>232999.0</td>\n",
       "      <td>132839.2</td>\n",
       "      <td>-</td>\n",
       "      <td>258000.0</td>\n",
       "    </tr>\n",
       "    <tr>\n",
       "      <th>4</th>\n",
       "      <td>5</td>\n",
       "      <td>UnitedHealth Group</td>\n",
       "      <td>287597.0</td>\n",
       "      <td>0.118</td>\n",
       "      <td>17285.0</td>\n",
       "      <td>0.122</td>\n",
       "      <td>212206.0</td>\n",
       "      <td>479830.3</td>\n",
       "      <td>-</td>\n",
       "      <td>350000.0</td>\n",
       "    </tr>\n",
       "  </tbody>\n",
       "</table>\n",
       "</div>"
      ],
      "text/plain": [
       "  Rank                Name  Revenues_22  Rev_Change  Profits_22  \\\n",
       "0    1             Walmart     572754.0       0.024     13673.0   \n",
       "1    2              Amazon     469822.0       0.217     33364.0   \n",
       "2    3               Apple     365817.0       0.333     94680.0   \n",
       "3    4          CVS Health     292111.0       0.087      7910.0   \n",
       "4    5  UnitedHealth Group     287597.0       0.118     17285.0   \n",
       "\n",
       "   Profits_Change    Assets   Market_V Rank_Change  Employees  \n",
       "0           0.012  244860.0   409795.0           -  2300000.0  \n",
       "1           0.564  420549.0  1658807.3           -  1608000.0  \n",
       "2           0.649  351002.0  2849537.6           -   154000.0  \n",
       "3           0.102  232999.0   132839.2           -   258000.0  \n",
       "4           0.122  212206.0   479830.3           -   350000.0  "
      ]
     },
     "execution_count": 93,
     "metadata": {},
     "output_type": "execute_result"
    }
   ],
   "source": [
    "data.head()"
   ]
  },
  {
   "cell_type": "markdown",
   "id": "c7c65ab3",
   "metadata": {},
   "source": [
    "### Creating the Data Dictionary"
   ]
  },
  {
   "cell_type": "code",
   "execution_count": 94,
   "id": "de595bf8",
   "metadata": {},
   "outputs": [],
   "source": [
    "class create_data_dictionary:\n",
    "    def __init__(self):\n",
    "        '''This class enables you to develop a data dictionary for your dataset '''\n",
    "        return None\n",
    "    \n",
    "    def make_my_data_dictionary(self, dataFrame):\n",
    "        '''Create an initial data dictionary excluding definitions for meaning of features'''\n",
    "        \n",
    "        col_ = dataFrame.columns\n",
    "        df_DataDict = {}\n",
    "        \n",
    "        for col in col_:\n",
    "            df_DataDict[col] = {\n",
    "                            'Type': str(data.dtypes[col]),\n",
    "                               'Length': len(data[col]),\n",
    "                               'Null_Count': sum(data[col].isna()),\n",
    "                               'Size(Memory)': data.memory_usage()[col],\n",
    "                               'Definition': str('')\n",
    "                                }\n",
    "        df_DD = pd.DataFrame(df_DataDict)\n",
    "        return df_DD\n",
    "    \n",
    "    def define_data_meaning(self, df_data_dictionary):\n",
    "        '''Provide input regarding each columns meaning and transpose into a usable dictionary'''\n",
    "        col_ = df_data_dictionary.columns\n",
    "        \n",
    "        d = 'Definition'\n",
    "        \n",
    "        for col in col_:\n",
    "            df_data_dictionary[col][d] = input('Provide data description for {}: '.format(col))\n",
    "            \n",
    "        df_data_dictionary = df_data_dictionary.transpose()\n",
    "        \n",
    "        return df_data_dictionary\n",
    "    \n",
    "    def update_dd_definition(self, df_data_dictionary, attribute):\n",
    "        try:\n",
    "            df_dd = df_data_dictionary.transpose()\n",
    "            df_dd[attribute]['Definition'] = input('Provide data description for {}: '.format(attribute))\n",
    "            df_dd = df_dd.transpose()\n",
    "            return df_dd\n",
    "        except:\n",
    "            print('Sorry, there was an error.  Check attribute name and try again')"
   ]
  },
  {
   "cell_type": "code",
   "execution_count": 95,
   "id": "360d4baf",
   "metadata": {
    "scrolled": true
   },
   "outputs": [
    {
     "name": "stdout",
     "output_type": "stream",
     "text": [
      "Provide data description for Rank: Rank in the list\n",
      "Provide data description for Name: Company Nmae\n",
      "Provide data description for Revenues_22: Revenues 2022\n",
      "Provide data description for Rev_Change: Revenue % Change\n",
      "Provide data description for Profits_22: Profits 2022\n",
      "Provide data description for Profits_Change: Profits % Change\n",
      "Provide data description for Assets: Assets of Company\n",
      "Provide data description for Market_V: Market Value of Company\n",
      "Provide data description for Rank_Change: Rank Changed from last year\n",
      "Provide data description for Employees: Number of Employees\n",
      "                   Type Length Null_Count Size(Memory)  \\\n",
      "Rank             object   1000          0         8000   \n",
      "Name             object   1000          0         8000   \n",
      "Revenues_22     float64   1000          0         8000   \n",
      "Rev_Change      float64   1000          8         8000   \n",
      "Profits_22      float64   1000          3         8000   \n",
      "Profits_Change  float64   1000        273         8000   \n",
      "Assets          float64   1000          0         8000   \n",
      "Market_V        float64   1000         45         8000   \n",
      "Rank_Change      object   1000          0         8000   \n",
      "Employees       float64   1000          1         8000   \n",
      "\n",
      "                                 Definition  \n",
      "Rank                       Rank in the list  \n",
      "Name                           Company Nmae  \n",
      "Revenues_22                   Revenues 2022  \n",
      "Rev_Change                 Revenue % Change  \n",
      "Profits_22                     Profits 2022  \n",
      "Profits_Change             Profits % Change  \n",
      "Assets                    Assets of Company  \n",
      "Market_V            Market Value of Company  \n",
      "Rank_Change     Rank Changed from last year  \n",
      "Employees               Number of Employees  \n"
     ]
    }
   ],
   "source": [
    "df = data\n",
    "dd = create_data_dictionary()\n",
    "df_dd = dd.make_my_data_dictionary(df)\n",
    "df_dd = dd.define_data_meaning(df_dd)\n",
    "\n",
    "print(df_dd)"
   ]
  },
  {
   "cell_type": "code",
   "execution_count": 96,
   "id": "5861a87f",
   "metadata": {
    "scrolled": false
   },
   "outputs": [
    {
     "data": {
      "text/plain": [
       "Rank                0\n",
       "Name                0\n",
       "Revenues_22         0\n",
       "Rev_Change          8\n",
       "Profits_22          3\n",
       "Profits_Change    273\n",
       "Assets              0\n",
       "Market_V           45\n",
       "Rank_Change         0\n",
       "Employees           1\n",
       "dtype: int64"
      ]
     },
     "execution_count": 96,
     "metadata": {},
     "output_type": "execute_result"
    }
   ],
   "source": [
    "data.isnull().sum()"
   ]
  },
  {
   "cell_type": "code",
   "execution_count": 97,
   "id": "7f2552e6",
   "metadata": {},
   "outputs": [],
   "source": [
    "data['Rev_Change'] = data['Rev_Change'].fillna(data['Rev_Change'].mean())\n",
    "data['Profits_22'] = data['Profits_22'].fillna(data['Profits_22'].mean())\n",
    "data['Profits_Change'] = data['Profits_Change'].fillna(data['Profits_Change'].mean())\n",
    "data['Market_V'] = data['Market_V'].fillna(data['Market_V'].mean())\n",
    "data['Employees'] = data['Employees'].fillna(data['Employees'].mean())"
   ]
  },
  {
   "cell_type": "code",
   "execution_count": 150,
   "id": "7f728034",
   "metadata": {},
   "outputs": [
    {
     "data": {
      "text/plain": [
       "Name              0\n",
       "Revenues_22       0\n",
       "Rev_Change        0\n",
       "Profits_22        0\n",
       "Profits_Change    0\n",
       "Assets            0\n",
       "Market_V          0\n",
       "Employees         0\n",
       "dtype: int64"
      ]
     },
     "execution_count": 150,
     "metadata": {},
     "output_type": "execute_result"
    }
   ],
   "source": [
    "data.isnull().sum()"
   ]
  },
  {
   "cell_type": "code",
   "execution_count": 99,
   "id": "d384a7db",
   "metadata": {
    "scrolled": true
   },
   "outputs": [
    {
     "data": {
      "text/plain": [
       "array([[<AxesSubplot:title={'center':'Revenues_22'}>,\n",
       "        <AxesSubplot:title={'center':'Rev_Change'}>,\n",
       "        <AxesSubplot:title={'center':'Profits_22'}>],\n",
       "       [<AxesSubplot:title={'center':'Profits_Change'}>,\n",
       "        <AxesSubplot:title={'center':'Assets'}>,\n",
       "        <AxesSubplot:title={'center':'Market_V'}>],\n",
       "       [<AxesSubplot:title={'center':'Employees'}>, <AxesSubplot:>,\n",
       "        <AxesSubplot:>],\n",
       "       [<AxesSubplot:>, <AxesSubplot:>, <AxesSubplot:>],\n",
       "       [<AxesSubplot:>, <AxesSubplot:>, <AxesSubplot:>],\n",
       "       [<AxesSubplot:>, <AxesSubplot:>, <AxesSubplot:>],\n",
       "       [<AxesSubplot:>, <AxesSubplot:>, <AxesSubplot:>],\n",
       "       [<AxesSubplot:>, <AxesSubplot:>, <AxesSubplot:>],\n",
       "       [<AxesSubplot:>, <AxesSubplot:>, <AxesSubplot:>]], dtype=object)"
      ]
     },
     "execution_count": 99,
     "metadata": {},
     "output_type": "execute_result"
    },
    {
     "data": {
      "image/png": "[encoded data removed]",
      "text/plain": [
       "<Figure size 1080x2160 with 27 Axes>"
      ]
     },
     "metadata": {
      "needs_background": "light"
     },
     "output_type": "display_data"
    }
   ],
   "source": [
    "data.hist(figsize=(15,30),layout=(9,3))"
   ]
  },
  {
   "cell_type": "code",
   "execution_count": 100,
   "id": "560b654f",
   "metadata": {
    "scrolled": false
   },
   "outputs": [
    {
     "data": {
      "text/plain": [
       "<seaborn.axisgrid.PairGrid at 0x1f07a77ca30>"
      ]
     },
     "execution_count": 100,
     "metadata": {},
     "output_type": "execute_result"
    },
    {
     "data": {
      "image/png": "[encoded data removed]",
      "text/plain": [
       "<Figure size 756x756 with 56 Axes>"
      ]
     },
     "metadata": {
      "needs_background": "light"
     },
     "output_type": "display_data"
    }
   ],
   "source": [
    "sns.pairplot(data,height=1.5, aspect=1)"
   ]
  },
  {
   "cell_type": "code",
   "execution_count": 101,
   "id": "b1aeaec4",
   "metadata": {},
   "outputs": [
    {
     "data": {
      "image/png": "[encoded data removed]",
      "text/plain": [
       "<Figure size 1152x576 with 1 Axes>"
      ]
     },
     "metadata": {
      "needs_background": "light"
     },
     "output_type": "display_data"
    }
   ],
   "source": [
    "import matplotlib.pyplot as plt\n",
    "fig, ax = plt.subplots(figsize=(16,8))\n",
    "ax.scatter(data['Revenues_22'], data['Profits_22'])\n",
    "ax.set_xlabel('Revenues of Companies')\n",
    "ax.set_ylabel('Profits of Companies')\n",
    "plt.show()"
   ]
  },
  {
   "cell_type": "code",
   "execution_count": 102,
   "id": "77685bbe",
   "metadata": {},
   "outputs": [
    {
     "data": {
      "image/png": "[encoded data removed]",
      "text/plain": [
       "<Figure size 1152x576 with 1 Axes>"
      ]
     },
     "metadata": {
      "needs_background": "light"
     },
     "output_type": "display_data"
    }
   ],
   "source": [
    "fig, ax = plt.subplots(figsize=(16,8))\n",
    "ax.scatter(data['Assets'], data['Market_V'])\n",
    "ax.set_xlabel('Assets of the Companies')\n",
    "ax.set_ylabel('Market Values of Companies')\n",
    "plt.show()"
   ]
  },
  {
   "cell_type": "code",
   "execution_count": 103,
   "id": "98d4e4fa",
   "metadata": {},
   "outputs": [
    {
     "data": {
      "image/png": "[encoded data removed]",
      "text/plain": [
       "<Figure size 1152x576 with 1 Axes>"
      ]
     },
     "metadata": {
      "needs_background": "light"
     },
     "output_type": "display_data"
    }
   ],
   "source": [
    "fig, ax = plt.subplots(figsize=(16,8))\n",
    "ax.scatter(data['Revenues_22'], data['Employees'])\n",
    "ax.set_xlabel('Revenues of the Companies')\n",
    "ax.set_ylabel('Number of Employees')\n",
    "plt.show()"
   ]
  },
  {
   "cell_type": "code",
   "execution_count": 104,
   "id": "d6a82a76",
   "metadata": {
    "scrolled": true
   },
   "outputs": [
    {
     "data": {
      "text/html": [
       "<div>\n",
       "<style scoped>\n",
       "    .dataframe tbody tr th:only-of-type {\n",
       "        vertical-align: middle;\n",
       "    }\n",
       "\n",
       "    .dataframe tbody tr th {\n",
       "        vertical-align: top;\n",
       "    }\n",
       "\n",
       "    .dataframe thead th {\n",
       "        text-align: right;\n",
       "    }\n",
       "</style>\n",
       "<table border=\"1\" class=\"dataframe\">\n",
       "  <thead>\n",
       "    <tr style=\"text-align: right;\">\n",
       "      <th></th>\n",
       "      <th>Revenues_22</th>\n",
       "      <th>Rev_Change</th>\n",
       "      <th>Profits_22</th>\n",
       "      <th>Profits_Change</th>\n",
       "      <th>Assets</th>\n",
       "      <th>Market_V</th>\n",
       "      <th>Employees</th>\n",
       "    </tr>\n",
       "  </thead>\n",
       "  <tbody>\n",
       "    <tr>\n",
       "      <th>Revenues_22</th>\n",
       "      <td>1.000000</td>\n",
       "      <td>-0.022636</td>\n",
       "      <td>0.651291</td>\n",
       "      <td>0.002855</td>\n",
       "      <td>0.302837</td>\n",
       "      <td>0.613033</td>\n",
       "      <td>0.732164</td>\n",
       "    </tr>\n",
       "    <tr>\n",
       "      <th>Rev_Change</th>\n",
       "      <td>-0.022636</td>\n",
       "      <td>1.000000</td>\n",
       "      <td>0.024159</td>\n",
       "      <td>0.006667</td>\n",
       "      <td>-0.035260</td>\n",
       "      <td>-0.002197</td>\n",
       "      <td>-0.044115</td>\n",
       "    </tr>\n",
       "    <tr>\n",
       "      <th>Profits_22</th>\n",
       "      <td>0.651291</td>\n",
       "      <td>0.024159</td>\n",
       "      <td>1.000000</td>\n",
       "      <td>0.004157</td>\n",
       "      <td>0.466901</td>\n",
       "      <td>0.825189</td>\n",
       "      <td>0.337459</td>\n",
       "    </tr>\n",
       "    <tr>\n",
       "      <th>Profits_Change</th>\n",
       "      <td>0.002855</td>\n",
       "      <td>0.006667</td>\n",
       "      <td>0.004157</td>\n",
       "      <td>1.000000</td>\n",
       "      <td>-0.002665</td>\n",
       "      <td>-0.006450</td>\n",
       "      <td>0.012541</td>\n",
       "    </tr>\n",
       "    <tr>\n",
       "      <th>Assets</th>\n",
       "      <td>0.302837</td>\n",
       "      <td>-0.035260</td>\n",
       "      <td>0.466901</td>\n",
       "      <td>-0.002665</td>\n",
       "      <td>1.000000</td>\n",
       "      <td>0.186003</td>\n",
       "      <td>0.160360</td>\n",
       "    </tr>\n",
       "    <tr>\n",
       "      <th>Market_V</th>\n",
       "      <td>0.613033</td>\n",
       "      <td>-0.002197</td>\n",
       "      <td>0.825189</td>\n",
       "      <td>-0.006450</td>\n",
       "      <td>0.186003</td>\n",
       "      <td>1.000000</td>\n",
       "      <td>0.367487</td>\n",
       "    </tr>\n",
       "    <tr>\n",
       "      <th>Employees</th>\n",
       "      <td>0.732164</td>\n",
       "      <td>-0.044115</td>\n",
       "      <td>0.337459</td>\n",
       "      <td>0.012541</td>\n",
       "      <td>0.160360</td>\n",
       "      <td>0.367487</td>\n",
       "      <td>1.000000</td>\n",
       "    </tr>\n",
       "  </tbody>\n",
       "</table>\n",
       "</div>"
      ],
      "text/plain": [
       "                Revenues_22  Rev_Change  Profits_22  Profits_Change    Assets  \\\n",
       "Revenues_22        1.000000   -0.022636    0.651291        0.002855  0.302837   \n",
       "Rev_Change        -0.022636    1.000000    0.024159        0.006667 -0.035260   \n",
       "Profits_22         0.651291    0.024159    1.000000        0.004157  0.466901   \n",
       "Profits_Change     0.002855    0.006667    0.004157        1.000000 -0.002665   \n",
       "Assets             0.302837   -0.035260    0.466901       -0.002665  1.000000   \n",
       "Market_V           0.613033   -0.002197    0.825189       -0.006450  0.186003   \n",
       "Employees          0.732164   -0.044115    0.337459        0.012541  0.160360   \n",
       "\n",
       "                Market_V  Employees  \n",
       "Revenues_22     0.613033   0.732164  \n",
       "Rev_Change     -0.002197  -0.044115  \n",
       "Profits_22      0.825189   0.337459  \n",
       "Profits_Change -0.006450   0.012541  \n",
       "Assets          0.186003   0.160360  \n",
       "Market_V        1.000000   0.367487  \n",
       "Employees       0.367487   1.000000  "
      ]
     },
     "execution_count": 104,
     "metadata": {},
     "output_type": "execute_result"
    }
   ],
   "source": [
    "corr = data.corr()\n",
    "corr"
   ]
  },
  {
   "cell_type": "code",
   "execution_count": 105,
   "id": "85988b5c",
   "metadata": {},
   "outputs": [
    {
     "data": {
      "image/png": "[encoded data removed]",
      "text/plain": [
       "<Figure size 864x720 with 2 Axes>"
      ]
     },
     "metadata": {
      "needs_background": "light"
     },
     "output_type": "display_data"
    }
   ],
   "source": [
    "import matplotlib.pyplot as plt\n",
    "plt.figure(figsize=(12,10))\n",
    "cor = data.corr()\n",
    "sns.heatmap(cor, annot=True, cmap=plt.cm.Reds)\n",
    "plt.show()"
   ]
  },
  {
   "cell_type": "code",
   "execution_count": 106,
   "id": "afc8086f",
   "metadata": {},
   "outputs": [
    {
     "data": {
      "text/plain": [
       "Revenues_22    0.651291\n",
       "Profits_22     1.000000\n",
       "Assets         0.466901\n",
       "Market_V       0.825189\n",
       "Employees      0.337459\n",
       "Name: Profits_22, dtype: float64"
      ]
     },
     "execution_count": 106,
     "metadata": {},
     "output_type": "execute_result"
    }
   ],
   "source": [
    "#Correlation with output variable\n",
    "cor_target = abs(cor[\"Profits_22\"])\n",
    "#Selecting highly correlated features\n",
    "relevant_features = cor_target[cor_target>0.3]\n",
    "relevant_features"
   ]
  },
  {
   "cell_type": "code",
   "execution_count": 107,
   "id": "3bb59f24",
   "metadata": {},
   "outputs": [],
   "source": [
    "# Deleting unncessary columns: Rank and Rank_Change has no significance\n",
    "del data['Rank']\n",
    "del data['Rank_Change']"
   ]
  },
  {
   "cell_type": "code",
   "execution_count": 108,
   "id": "29fc19b9",
   "metadata": {
    "scrolled": true
   },
   "outputs": [
    {
     "data": {
      "text/html": [
       "<div>\n",
       "<style scoped>\n",
       "    .dataframe tbody tr th:only-of-type {\n",
       "        vertical-align: middle;\n",
       "    }\n",
       "\n",
       "    .dataframe tbody tr th {\n",
       "        vertical-align: top;\n",
       "    }\n",
       "\n",
       "    .dataframe thead th {\n",
       "        text-align: right;\n",
       "    }\n",
       "</style>\n",
       "<table border=\"1\" class=\"dataframe\">\n",
       "  <thead>\n",
       "    <tr style=\"text-align: right;\">\n",
       "      <th></th>\n",
       "      <th>Name</th>\n",
       "      <th>Revenues_22</th>\n",
       "      <th>Rev_Change</th>\n",
       "      <th>Profits_22</th>\n",
       "      <th>Profits_Change</th>\n",
       "      <th>Assets</th>\n",
       "      <th>Market_V</th>\n",
       "      <th>Employees</th>\n",
       "    </tr>\n",
       "  </thead>\n",
       "  <tbody>\n",
       "    <tr>\n",
       "      <th>0</th>\n",
       "      <td>Walmart</td>\n",
       "      <td>572754.0</td>\n",
       "      <td>0.024</td>\n",
       "      <td>13673.0</td>\n",
       "      <td>0.012</td>\n",
       "      <td>244860.0</td>\n",
       "      <td>409795.0</td>\n",
       "      <td>2300000.0</td>\n",
       "    </tr>\n",
       "    <tr>\n",
       "      <th>1</th>\n",
       "      <td>Amazon</td>\n",
       "      <td>469822.0</td>\n",
       "      <td>0.217</td>\n",
       "      <td>33364.0</td>\n",
       "      <td>0.564</td>\n",
       "      <td>420549.0</td>\n",
       "      <td>1658807.3</td>\n",
       "      <td>1608000.0</td>\n",
       "    </tr>\n",
       "    <tr>\n",
       "      <th>2</th>\n",
       "      <td>Apple</td>\n",
       "      <td>365817.0</td>\n",
       "      <td>0.333</td>\n",
       "      <td>94680.0</td>\n",
       "      <td>0.649</td>\n",
       "      <td>351002.0</td>\n",
       "      <td>2849537.6</td>\n",
       "      <td>154000.0</td>\n",
       "    </tr>\n",
       "    <tr>\n",
       "      <th>3</th>\n",
       "      <td>CVS Health</td>\n",
       "      <td>292111.0</td>\n",
       "      <td>0.087</td>\n",
       "      <td>7910.0</td>\n",
       "      <td>0.102</td>\n",
       "      <td>232999.0</td>\n",
       "      <td>132839.2</td>\n",
       "      <td>258000.0</td>\n",
       "    </tr>\n",
       "    <tr>\n",
       "      <th>4</th>\n",
       "      <td>UnitedHealth Group</td>\n",
       "      <td>287597.0</td>\n",
       "      <td>0.118</td>\n",
       "      <td>17285.0</td>\n",
       "      <td>0.122</td>\n",
       "      <td>212206.0</td>\n",
       "      <td>479830.3</td>\n",
       "      <td>350000.0</td>\n",
       "    </tr>\n",
       "  </tbody>\n",
       "</table>\n",
       "</div>"
      ],
      "text/plain": [
       "                 Name  Revenues_22  Rev_Change  Profits_22  Profits_Change  \\\n",
       "0             Walmart     572754.0       0.024     13673.0           0.012   \n",
       "1              Amazon     469822.0       0.217     33364.0           0.564   \n",
       "2               Apple     365817.0       0.333     94680.0           0.649   \n",
       "3          CVS Health     292111.0       0.087      7910.0           0.102   \n",
       "4  UnitedHealth Group     287597.0       0.118     17285.0           0.122   \n",
       "\n",
       "     Assets   Market_V  Employees  \n",
       "0  244860.0   409795.0  2300000.0  \n",
       "1  420549.0  1658807.3  1608000.0  \n",
       "2  351002.0  2849537.6   154000.0  \n",
       "3  232999.0   132839.2   258000.0  \n",
       "4  212206.0   479830.3   350000.0  "
      ]
     },
     "execution_count": 108,
     "metadata": {},
     "output_type": "execute_result"
    }
   ],
   "source": [
    "data.head()"
   ]
  },
  {
   "cell_type": "code",
   "execution_count": 109,
   "id": "a08a4225",
   "metadata": {},
   "outputs": [],
   "source": [
    "## Modelling\n",
    "# (1) Linear Regression"
   ]
  },
  {
   "cell_type": "code",
   "execution_count": 110,
   "id": "368c4125",
   "metadata": {},
   "outputs": [],
   "source": [
    "X = data[['Revenues_22', 'Rev_Change', 'Profits_Change', 'Assets', 'Market_V', 'Employees']]\n",
    "y = data['Profits_22']"
   ]
  },
  {
   "cell_type": "code",
   "execution_count": 111,
   "id": "4c7162d7",
   "metadata": {},
   "outputs": [],
   "source": [
    "# Split Data\n",
    "from sklearn.model_selection import train_test_split\n",
    "X_train, X_test, y_train, y_test = train_test_split(X,y, test_size=0.3, random_state=0)"
   ]
  },
  {
   "cell_type": "code",
   "execution_count": 114,
   "id": "c8d08c04",
   "metadata": {
    "scrolled": true
   },
   "outputs": [
    {
     "name": "stdout",
     "output_type": "stream",
     "text": [
      "X_train: (700, 6)\n",
      "X_test: (300, 6)\n",
      "Y_train: (700,)\n",
      "Y_test: (300,)\n"
     ]
    }
   ],
   "source": [
    "#shapes of splitted data\n",
    "print(\"X_train:\",X_train.shape)\n",
    "print(\"X_test:\",X_test.shape)\n",
    "print(\"Y_train:\",y_train.shape)\n",
    "print(\"Y_test:\",y_test.shape)"
   ]
  },
  {
   "cell_type": "code",
   "execution_count": 115,
   "id": "f65c8f5d",
   "metadata": {
    "scrolled": true
   },
   "outputs": [
    {
     "data": {
      "text/plain": [
       "LinearRegression()"
      ]
     },
     "execution_count": 115,
     "metadata": {},
     "output_type": "execute_result"
    }
   ],
   "source": [
    "# Fit Regressor\n",
    "from sklearn.linear_model import LinearRegression\n",
    "regressor = LinearRegression()\n",
    "regressor.fit(X_train, y_train)"
   ]
  },
  {
   "cell_type": "code",
   "execution_count": 116,
   "id": "51b803ab",
   "metadata": {},
   "outputs": [],
   "source": [
    "# Step 7 - Predict\n",
    "y_pred = regressor.predict(X_test)"
   ]
  },
  {
   "cell_type": "code",
   "execution_count": 117,
   "id": "b887713a",
   "metadata": {
    "scrolled": false
   },
   "outputs": [
    {
     "data": {
      "text/plain": [
       "993   -165.1\n",
       "859    249.9\n",
       "298    631.2\n",
       "553   -201.3\n",
       "672    498.5\n",
       "Name: Profits_22, dtype: float64"
      ]
     },
     "execution_count": 117,
     "metadata": {},
     "output_type": "execute_result"
    }
   ],
   "source": [
    "y_test[:5]"
   ]
  },
  {
   "cell_type": "code",
   "execution_count": 118,
   "id": "dc5f4da6",
   "metadata": {
    "scrolled": false
   },
   "outputs": [
    {
     "data": {
      "text/html": [
       "<div>\n",
       "<style scoped>\n",
       "    .dataframe tbody tr th:only-of-type {\n",
       "        vertical-align: middle;\n",
       "    }\n",
       "\n",
       "    .dataframe tbody tr th {\n",
       "        vertical-align: top;\n",
       "    }\n",
       "\n",
       "    .dataframe thead th {\n",
       "        text-align: right;\n",
       "    }\n",
       "</style>\n",
       "<table border=\"1\" class=\"dataframe\">\n",
       "  <thead>\n",
       "    <tr style=\"text-align: right;\">\n",
       "      <th></th>\n",
       "      <th>Actual Value</th>\n",
       "      <th>Predicted Value</th>\n",
       "      <th>Difference</th>\n",
       "    </tr>\n",
       "  </thead>\n",
       "  <tbody>\n",
       "    <tr>\n",
       "      <th>993</th>\n",
       "      <td>-165.1</td>\n",
       "      <td>-54.454121</td>\n",
       "      <td>-110.645879</td>\n",
       "    </tr>\n",
       "    <tr>\n",
       "      <th>859</th>\n",
       "      <td>249.9</td>\n",
       "      <td>-63.467450</td>\n",
       "      <td>313.367450</td>\n",
       "    </tr>\n",
       "    <tr>\n",
       "      <th>298</th>\n",
       "      <td>631.2</td>\n",
       "      <td>634.334395</td>\n",
       "      <td>-3.134395</td>\n",
       "    </tr>\n",
       "    <tr>\n",
       "      <th>553</th>\n",
       "      <td>-201.3</td>\n",
       "      <td>163.721229</td>\n",
       "      <td>-365.021229</td>\n",
       "    </tr>\n",
       "    <tr>\n",
       "      <th>672</th>\n",
       "      <td>498.5</td>\n",
       "      <td>102.354579</td>\n",
       "      <td>396.145421</td>\n",
       "    </tr>\n",
       "    <tr>\n",
       "      <th>...</th>\n",
       "      <td>...</td>\n",
       "      <td>...</td>\n",
       "      <td>...</td>\n",
       "    </tr>\n",
       "    <tr>\n",
       "      <th>167</th>\n",
       "      <td>-102.0</td>\n",
       "      <td>2152.475979</td>\n",
       "      <td>-2254.475979</td>\n",
       "    </tr>\n",
       "    <tr>\n",
       "      <th>998</th>\n",
       "      <td>220.0</td>\n",
       "      <td>-42.396810</td>\n",
       "      <td>262.396810</td>\n",
       "    </tr>\n",
       "    <tr>\n",
       "      <th>984</th>\n",
       "      <td>61.6</td>\n",
       "      <td>-134.011627</td>\n",
       "      <td>195.611627</td>\n",
       "    </tr>\n",
       "    <tr>\n",
       "      <th>491</th>\n",
       "      <td>917.1</td>\n",
       "      <td>893.189537</td>\n",
       "      <td>23.910463</td>\n",
       "    </tr>\n",
       "    <tr>\n",
       "      <th>10</th>\n",
       "      <td>5007.0</td>\n",
       "      <td>14857.782515</td>\n",
       "      <td>-9850.782515</td>\n",
       "    </tr>\n",
       "  </tbody>\n",
       "</table>\n",
       "<p>300 rows × 3 columns</p>\n",
       "</div>"
      ],
      "text/plain": [
       "     Actual Value  Predicted Value   Difference\n",
       "993        -165.1       -54.454121  -110.645879\n",
       "859         249.9       -63.467450   313.367450\n",
       "298         631.2       634.334395    -3.134395\n",
       "553        -201.3       163.721229  -365.021229\n",
       "672         498.5       102.354579   396.145421\n",
       "..            ...              ...          ...\n",
       "167        -102.0      2152.475979 -2254.475979\n",
       "998         220.0       -42.396810   262.396810\n",
       "984          61.6      -134.011627   195.611627\n",
       "491         917.1       893.189537    23.910463\n",
       "10         5007.0     14857.782515 -9850.782515\n",
       "\n",
       "[300 rows x 3 columns]"
      ]
     },
     "execution_count": 118,
     "metadata": {},
     "output_type": "execute_result"
    }
   ],
   "source": [
    "#Actual value and the predicted value\n",
    "pred_df = pd.DataFrame({'Actual Value':y_test,'Predicted Value':y_pred,'Difference':y_test-y_pred})\n",
    "pred_df"
   ]
  },
  {
   "cell_type": "code",
   "execution_count": 119,
   "id": "c9f663f1",
   "metadata": {},
   "outputs": [
    {
     "name": "stdout",
     "output_type": "stream",
     "text": [
      " Accuracy of the model is 86.08\n"
     ]
    }
   ],
   "source": [
    "# Evaluating the model\n",
    "from sklearn.metrics import r2_score\n",
    "Accuracy = r2_score(y_test,y_pred)*100\n",
    "print(\" Accuracy of the model is %.2f\" %Accuracy)"
   ]
  },
  {
   "cell_type": "code",
   "execution_count": 120,
   "id": "88ee90b4",
   "metadata": {
    "scrolled": false
   },
   "outputs": [
    {
     "data": {
      "image/png": "[encoded data removed]",
      "text/plain": [
       "<Figure size 432x288 with 1 Axes>"
      ]
     },
     "metadata": {
      "needs_background": "light"
     },
     "output_type": "display_data"
    }
   ],
   "source": [
    "sns.regplot(x=y_test,y=y_pred,ci=None,color ='red');"
   ]
  },
  {
   "cell_type": "code",
   "execution_count": 123,
   "id": "ad4866d2",
   "metadata": {},
   "outputs": [
    {
     "data": {
      "text/plain": [
       "0.008983018896953387"
      ]
     },
     "execution_count": 123,
     "metadata": {},
     "output_type": "execute_result"
    }
   ],
   "source": [
    "# Evaluating Linear Regression using Cross Validation\n",
    "\n",
    "np.mean(cross_val_score(regressor, X, y, cv=5))"
   ]
  },
  {
   "cell_type": "code",
   "execution_count": 124,
   "id": "99cf966d",
   "metadata": {},
   "outputs": [],
   "source": [
    "# (2) Random Forest Regressor\n",
    "\n",
    "# Import train_test_split function\n",
    "from sklearn.model_selection import train_test_split\n",
    "from sklearn.ensemble import RandomForestRegressor"
   ]
  },
  {
   "cell_type": "code",
   "execution_count": 125,
   "id": "cb394917",
   "metadata": {},
   "outputs": [
    {
     "data": {
      "text/plain": [
       "RandomForestRegressor(max_depth=10, n_estimators=10, random_state=101)"
      ]
     },
     "execution_count": 125,
     "metadata": {},
     "output_type": "execute_result"
    }
   ],
   "source": [
    "# Split data into training and test sets\n",
    "X_train, X_test, y_train, y_test = train_test_split(X, y, test_size = 0.30, random_state = 101)\n",
    "\n",
    "# Train the model\n",
    "regr = RandomForestRegressor(n_estimators = 10, max_depth = 10, random_state = 101)\n",
    "regr.fit(X_train, y_train.values.ravel())"
   ]
  },
  {
   "cell_type": "code",
   "execution_count": 126,
   "id": "6188612b",
   "metadata": {},
   "outputs": [],
   "source": [
    "y_train = y_train.values.reshape(-1,1)\n",
    "y_test = y_test.values.reshape(-1,1)"
   ]
  },
  {
   "cell_type": "code",
   "execution_count": 127,
   "id": "01ea43d1",
   "metadata": {},
   "outputs": [
    {
     "name": "stdout",
     "output_type": "stream",
     "text": [
      "X_train: (700, 6)\n",
      "X_test: (300, 6)\n",
      "Y_train: (700, 1)\n",
      "Y_test: (300, 1)\n"
     ]
    }
   ],
   "source": [
    "# Checking the shapes of splitted data\n",
    "print(\"X_train:\",X_train.shape)\n",
    "print(\"X_test:\",X_test.shape)\n",
    "print(\"Y_train:\",y_train.shape)\n",
    "print(\"Y_test:\",y_test.shape)"
   ]
  },
  {
   "cell_type": "code",
   "execution_count": 129,
   "id": "4fd002ce",
   "metadata": {},
   "outputs": [
    {
     "data": {
      "text/html": [
       "<div>\n",
       "<style scoped>\n",
       "    .dataframe tbody tr th:only-of-type {\n",
       "        vertical-align: middle;\n",
       "    }\n",
       "\n",
       "    .dataframe tbody tr th {\n",
       "        vertical-align: top;\n",
       "    }\n",
       "\n",
       "    .dataframe thead th {\n",
       "        text-align: right;\n",
       "    }\n",
       "</style>\n",
       "<table border=\"1\" class=\"dataframe\">\n",
       "  <thead>\n",
       "    <tr style=\"text-align: right;\">\n",
       "      <th></th>\n",
       "      <th>Revenues_22</th>\n",
       "      <th>Rev_Change</th>\n",
       "      <th>Profits_Change</th>\n",
       "      <th>Assets</th>\n",
       "      <th>Market_V</th>\n",
       "      <th>Employees</th>\n",
       "      <th>Profit_22</th>\n",
       "      <th>prediction</th>\n",
       "    </tr>\n",
       "  </thead>\n",
       "  <tbody>\n",
       "    <tr>\n",
       "      <th>545</th>\n",
       "      <td>5683.5</td>\n",
       "      <td>0.270</td>\n",
       "      <td>0.814569</td>\n",
       "      <td>4991.4</td>\n",
       "      <td>7712.400000</td>\n",
       "      <td>12300.0</td>\n",
       "      <td>360.1</td>\n",
       "      <td>364.015236</td>\n",
       "    </tr>\n",
       "    <tr>\n",
       "      <th>298</th>\n",
       "      <td>12401.0</td>\n",
       "      <td>0.226</td>\n",
       "      <td>0.563000</td>\n",
       "      <td>8481.1</td>\n",
       "      <td>11960.100000</td>\n",
       "      <td>21600.0</td>\n",
       "      <td>631.2</td>\n",
       "      <td>722.298821</td>\n",
       "    </tr>\n",
       "    <tr>\n",
       "      <th>109</th>\n",
       "      <td>31405.0</td>\n",
       "      <td>0.094</td>\n",
       "      <td>0.131000</td>\n",
       "      <td>41290.0</td>\n",
       "      <td>145614.700000</td>\n",
       "      <td>69600.0</td>\n",
       "      <td>9109.0</td>\n",
       "      <td>5001.190000</td>\n",
       "    </tr>\n",
       "    <tr>\n",
       "      <th>837</th>\n",
       "      <td>2977.9</td>\n",
       "      <td>-0.036</td>\n",
       "      <td>0.046000</td>\n",
       "      <td>3462.8</td>\n",
       "      <td>3076.000000</td>\n",
       "      <td>11400.0</td>\n",
       "      <td>143.4</td>\n",
       "      <td>163.653341</td>\n",
       "    </tr>\n",
       "    <tr>\n",
       "      <th>194</th>\n",
       "      <td>18471.0</td>\n",
       "      <td>21.991</td>\n",
       "      <td>0.814569</td>\n",
       "      <td>24669.0</td>\n",
       "      <td>69424.300000</td>\n",
       "      <td>2700.0</td>\n",
       "      <td>12202.0</td>\n",
       "      <td>3558.766224</td>\n",
       "    </tr>\n",
       "    <tr>\n",
       "      <th>605</th>\n",
       "      <td>5004.0</td>\n",
       "      <td>0.374</td>\n",
       "      <td>3.486000</td>\n",
       "      <td>4434.0</td>\n",
       "      <td>5948.800000</td>\n",
       "      <td>4100.0</td>\n",
       "      <td>166.0</td>\n",
       "      <td>428.651267</td>\n",
       "    </tr>\n",
       "    <tr>\n",
       "      <th>246</th>\n",
       "      <td>14647.8</td>\n",
       "      <td>0.080</td>\n",
       "      <td>11.285000</td>\n",
       "      <td>90419.7</td>\n",
       "      <td>44727.212565</td>\n",
       "      <td>9150.0</td>\n",
       "      <td>288.8</td>\n",
       "      <td>3517.758333</td>\n",
       "    </tr>\n",
       "    <tr>\n",
       "      <th>693</th>\n",
       "      <td>3984.2</td>\n",
       "      <td>0.664</td>\n",
       "      <td>3.633000</td>\n",
       "      <td>3131.9</td>\n",
       "      <td>4796.100000</td>\n",
       "      <td>3800.0</td>\n",
       "      <td>327.4</td>\n",
       "      <td>676.647934</td>\n",
       "    </tr>\n",
       "    <tr>\n",
       "      <th>802</th>\n",
       "      <td>3196.6</td>\n",
       "      <td>0.430</td>\n",
       "      <td>0.814569</td>\n",
       "      <td>2014.6</td>\n",
       "      <td>991.400000</td>\n",
       "      <td>13500.0</td>\n",
       "      <td>154.5</td>\n",
       "      <td>48.739473</td>\n",
       "    </tr>\n",
       "    <tr>\n",
       "      <th>406</th>\n",
       "      <td>8523.8</td>\n",
       "      <td>0.148</td>\n",
       "      <td>0.652000</td>\n",
       "      <td>45279.7</td>\n",
       "      <td>38545.600000</td>\n",
       "      <td>25000.0</td>\n",
       "      <td>965.5</td>\n",
       "      <td>1242.854090</td>\n",
       "    </tr>\n",
       "  </tbody>\n",
       "</table>\n",
       "</div>"
      ],
      "text/plain": [
       "     Revenues_22  Rev_Change  Profits_Change   Assets       Market_V  \\\n",
       "545       5683.5       0.270        0.814569   4991.4    7712.400000   \n",
       "298      12401.0       0.226        0.563000   8481.1   11960.100000   \n",
       "109      31405.0       0.094        0.131000  41290.0  145614.700000   \n",
       "837       2977.9      -0.036        0.046000   3462.8    3076.000000   \n",
       "194      18471.0      21.991        0.814569  24669.0   69424.300000   \n",
       "605       5004.0       0.374        3.486000   4434.0    5948.800000   \n",
       "246      14647.8       0.080       11.285000  90419.7   44727.212565   \n",
       "693       3984.2       0.664        3.633000   3131.9    4796.100000   \n",
       "802       3196.6       0.430        0.814569   2014.6     991.400000   \n",
       "406       8523.8       0.148        0.652000  45279.7   38545.600000   \n",
       "\n",
       "     Employees  Profit_22   prediction  \n",
       "545    12300.0      360.1   364.015236  \n",
       "298    21600.0      631.2   722.298821  \n",
       "109    69600.0     9109.0  5001.190000  \n",
       "837    11400.0      143.4   163.653341  \n",
       "194     2700.0    12202.0  3558.766224  \n",
       "605     4100.0      166.0   428.651267  \n",
       "246     9150.0      288.8  3517.758333  \n",
       "693     3800.0      327.4   676.647934  \n",
       "802    13500.0      154.5    48.739473  \n",
       "406    25000.0      965.5  1242.854090  "
      ]
     },
     "execution_count": 129,
     "metadata": {},
     "output_type": "execute_result"
    }
   ],
   "source": [
    "import warnings\n",
    "warnings.filterwarnings('ignore')\n",
    "\n",
    "# Make prediction\n",
    "predictions = regr.predict(X_test)\n",
    "\n",
    "result = X_test\n",
    "result['Profit_22'] = y_test\n",
    "result['prediction'] = predictions.tolist()\n",
    "result.head(10)"
   ]
  },
  {
   "cell_type": "code",
   "execution_count": 131,
   "id": "f73b72c8",
   "metadata": {
    "scrolled": true
   },
   "outputs": [
    {
     "name": "stdout",
     "output_type": "stream",
     "text": [
      "Mean Absolute Error: 1278.83\n",
      "Mean Squared Error: 22257402.58\n",
      "R-squared scores: 0.65\n",
      "Root Mean Squared Error: 4717.7751722976855\n"
     ]
    }
   ],
   "source": [
    "# Import library for metrics\n",
    "from sklearn.metrics import mean_squared_error, r2_score, mean_absolute_error\n",
    "\n",
    "# Mean absolute error (MAE)\n",
    "mae = mean_absolute_error(y_test.ravel(), predictions)\n",
    "\n",
    "# Mean squared error (MSE)\n",
    "mse = mean_squared_error(y_test.ravel(), predictions)\n",
    "\n",
    "# R-squared scores\n",
    "r2 = r2_score(y_test.ravel(), predictions)\n",
    "\n",
    "# RMSE \n",
    "rmse = np.sqrt(mse)\n",
    "\n",
    "             \n",
    "# Print metrics\n",
    "print('Mean Absolute Error:', round(mae, 2))\n",
    "print('Mean Squared Error:', round(mse, 2))\n",
    "print('R-squared scores:', round(r2, 2))\n",
    "print('Root Mean Squared Error:',rmse)"
   ]
  },
  {
   "cell_type": "code",
   "execution_count": 132,
   "id": "0435cea4",
   "metadata": {},
   "outputs": [
    {
     "data": {
      "text/plain": [
       "0.056451994643771194"
      ]
     },
     "execution_count": 132,
     "metadata": {},
     "output_type": "execute_result"
    }
   ],
   "source": [
    "# Evaluating Random Forest Regressor using Cross Validation\n",
    "\n",
    "np.mean(cross_val_score(regr, X, y, cv=5))"
   ]
  },
  {
   "cell_type": "code",
   "execution_count": 133,
   "id": "9a4d9035",
   "metadata": {},
   "outputs": [],
   "source": [
    "# (3) Decison Tree Regression\n",
    "\n",
    "# Importing the libraries\n",
    "import numpy as np # for array operations\n",
    "import pandas as pd # for working with DataFrames\n",
    "import requests, io # for HTTP requests and I/O commands\n",
    "import matplotlib.pyplot as plt # for data visualization\n",
    "%matplotlib inline"
   ]
  },
  {
   "cell_type": "code",
   "execution_count": 134,
   "id": "0426e115",
   "metadata": {},
   "outputs": [],
   "source": [
    "# scikit-learn modules\n",
    "from sklearn.model_selection import train_test_split # for splitting the data\n",
    "from sklearn.metrics import mean_squared_error # for calculating the cost function\n",
    "from sklearn.tree import DecisionTreeRegressor # for building the model"
   ]
  },
  {
   "cell_type": "code",
   "execution_count": 135,
   "id": "5d0fcc9f",
   "metadata": {},
   "outputs": [],
   "source": [
    "# Splitting the dataset into training and testing set (70/30)\n",
    "X_train, X_test, y_train, y_test = train_test_split(X, y, test_size = 0.3, random_state = 28)"
   ]
  },
  {
   "cell_type": "code",
   "execution_count": 136,
   "id": "12699eff",
   "metadata": {},
   "outputs": [],
   "source": [
    "# Initializing the Decision Tree Regression model\n",
    "model = DecisionTreeRegressor(random_state = 0)"
   ]
  },
  {
   "cell_type": "code",
   "execution_count": 137,
   "id": "11c40739",
   "metadata": {},
   "outputs": [
    {
     "data": {
      "text/plain": [
       "DecisionTreeRegressor(random_state=0)"
      ]
     },
     "execution_count": 137,
     "metadata": {},
     "output_type": "execute_result"
    }
   ],
   "source": [
    "# Fitting the Decision Tree Regression model to the data\n",
    "model.fit(X_train, y_train)"
   ]
  },
  {
   "cell_type": "code",
   "execution_count": 138,
   "id": "13c6430d",
   "metadata": {},
   "outputs": [],
   "source": [
    "# Predicting the target values of the test set\n",
    "y_pred = model.predict(X_test)"
   ]
  },
  {
   "cell_type": "code",
   "execution_count": 139,
   "id": "383a0d83",
   "metadata": {},
   "outputs": [
    {
     "data": {
      "text/html": [
       "<div>\n",
       "<style scoped>\n",
       "    .dataframe tbody tr th:only-of-type {\n",
       "        vertical-align: middle;\n",
       "    }\n",
       "\n",
       "    .dataframe tbody tr th {\n",
       "        vertical-align: top;\n",
       "    }\n",
       "\n",
       "    .dataframe thead th {\n",
       "        text-align: right;\n",
       "    }\n",
       "</style>\n",
       "<table border=\"1\" class=\"dataframe\">\n",
       "  <thead>\n",
       "    <tr style=\"text-align: right;\">\n",
       "      <th></th>\n",
       "      <th>Revenues_22</th>\n",
       "      <th>Rev_Change</th>\n",
       "      <th>Profits_Change</th>\n",
       "      <th>Assets</th>\n",
       "      <th>Market_V</th>\n",
       "      <th>Employees</th>\n",
       "      <th>Profit_22</th>\n",
       "      <th>prediction</th>\n",
       "    </tr>\n",
       "  </thead>\n",
       "  <tbody>\n",
       "    <tr>\n",
       "      <th>63</th>\n",
       "      <td>54968.0</td>\n",
       "      <td>0.426</td>\n",
       "      <td>4.152000</td>\n",
       "      <td>62990.0</td>\n",
       "      <td>46839.700000</td>\n",
       "      <td>35700.0</td>\n",
       "      <td>6311.0</td>\n",
       "      <td>364.015236</td>\n",
       "    </tr>\n",
       "    <tr>\n",
       "      <th>312</th>\n",
       "      <td>12149.0</td>\n",
       "      <td>-0.025</td>\n",
       "      <td>-0.088000</td>\n",
       "      <td>6238.0</td>\n",
       "      <td>44727.212565</td>\n",
       "      <td>28800.0</td>\n",
       "      <td>753.0</td>\n",
       "      <td>722.298821</td>\n",
       "    </tr>\n",
       "    <tr>\n",
       "      <th>392</th>\n",
       "      <td>8910.6</td>\n",
       "      <td>0.548</td>\n",
       "      <td>0.814569</td>\n",
       "      <td>8517.7</td>\n",
       "      <td>8062.000000</td>\n",
       "      <td>7750.0</td>\n",
       "      <td>1296.7</td>\n",
       "      <td>5001.190000</td>\n",
       "    </tr>\n",
       "    <tr>\n",
       "      <th>955</th>\n",
       "      <td>2311.3</td>\n",
       "      <td>0.152</td>\n",
       "      <td>0.738000</td>\n",
       "      <td>118445.4</td>\n",
       "      <td>18416.900000</td>\n",
       "      <td>1854.0</td>\n",
       "      <td>918.4</td>\n",
       "      <td>163.653341</td>\n",
       "    </tr>\n",
       "    <tr>\n",
       "      <th>179</th>\n",
       "      <td>19534.7</td>\n",
       "      <td>0.108</td>\n",
       "      <td>0.814569</td>\n",
       "      <td>8925.4</td>\n",
       "      <td>4016.900000</td>\n",
       "      <td>14500.0</td>\n",
       "      <td>193.1</td>\n",
       "      <td>3558.766224</td>\n",
       "    </tr>\n",
       "    <tr>\n",
       "      <th>622</th>\n",
       "      <td>4799.7</td>\n",
       "      <td>0.347</td>\n",
       "      <td>15.096000</td>\n",
       "      <td>2345.0</td>\n",
       "      <td>4185.400000</td>\n",
       "      <td>17662.0</td>\n",
       "      <td>455.1</td>\n",
       "      <td>428.651267</td>\n",
       "    </tr>\n",
       "    <tr>\n",
       "      <th>846</th>\n",
       "      <td>2928.0</td>\n",
       "      <td>0.659</td>\n",
       "      <td>2.860000</td>\n",
       "      <td>2210.1</td>\n",
       "      <td>4415.600000</td>\n",
       "      <td>3700.0</td>\n",
       "      <td>587.9</td>\n",
       "      <td>3517.758333</td>\n",
       "    </tr>\n",
       "    <tr>\n",
       "      <th>632</th>\n",
       "      <td>4734.0</td>\n",
       "      <td>0.155</td>\n",
       "      <td>1.975000</td>\n",
       "      <td>7416.3</td>\n",
       "      <td>24477.200000</td>\n",
       "      <td>16600.0</td>\n",
       "      <td>793.6</td>\n",
       "      <td>676.647934</td>\n",
       "    </tr>\n",
       "    <tr>\n",
       "      <th>653</th>\n",
       "      <td>4462.4</td>\n",
       "      <td>0.503</td>\n",
       "      <td>0.814569</td>\n",
       "      <td>22108.6</td>\n",
       "      <td>60795.700000</td>\n",
       "      <td>6712.0</td>\n",
       "      <td>-421.0</td>\n",
       "      <td>48.739473</td>\n",
       "    </tr>\n",
       "    <tr>\n",
       "      <th>102</th>\n",
       "      <td>34816.0</td>\n",
       "      <td>0.089</td>\n",
       "      <td>0.358000</td>\n",
       "      <td>120466.0</td>\n",
       "      <td>44129.400000</td>\n",
       "      <td>30492.0</td>\n",
       "      <td>3662.0</td>\n",
       "      <td>1242.854090</td>\n",
       "    </tr>\n",
       "  </tbody>\n",
       "</table>\n",
       "</div>"
      ],
      "text/plain": [
       "     Revenues_22  Rev_Change  Profits_Change    Assets      Market_V  \\\n",
       "63       54968.0       0.426        4.152000   62990.0  46839.700000   \n",
       "312      12149.0      -0.025       -0.088000    6238.0  44727.212565   \n",
       "392       8910.6       0.548        0.814569    8517.7   8062.000000   \n",
       "955       2311.3       0.152        0.738000  118445.4  18416.900000   \n",
       "179      19534.7       0.108        0.814569    8925.4   4016.900000   \n",
       "622       4799.7       0.347       15.096000    2345.0   4185.400000   \n",
       "846       2928.0       0.659        2.860000    2210.1   4415.600000   \n",
       "632       4734.0       0.155        1.975000    7416.3  24477.200000   \n",
       "653       4462.4       0.503        0.814569   22108.6  60795.700000   \n",
       "102      34816.0       0.089        0.358000  120466.0  44129.400000   \n",
       "\n",
       "     Employees  Profit_22   prediction  \n",
       "63     35700.0     6311.0   364.015236  \n",
       "312    28800.0      753.0   722.298821  \n",
       "392     7750.0     1296.7  5001.190000  \n",
       "955     1854.0      918.4   163.653341  \n",
       "179    14500.0      193.1  3558.766224  \n",
       "622    17662.0      455.1   428.651267  \n",
       "846     3700.0      587.9  3517.758333  \n",
       "632    16600.0      793.6   676.647934  \n",
       "653     6712.0     -421.0    48.739473  \n",
       "102    30492.0     3662.0  1242.854090  "
      ]
     },
     "execution_count": 139,
     "metadata": {},
     "output_type": "execute_result"
    }
   ],
   "source": [
    "D_result = X_test\n",
    "D_result['Profit_22'] = y_test\n",
    "D_result['prediction'] = predictions.tolist()\n",
    "D_result.head(10)"
   ]
  },
  {
   "cell_type": "code",
   "execution_count": 140,
   "id": "c4899d4f",
   "metadata": {},
   "outputs": [
    {
     "name": "stdout",
     "output_type": "stream",
     "text": [
      "\n",
      "RMSE: 5979.816\n"
     ]
    }
   ],
   "source": [
    "# RMSE (Root Mean Square Error)\n",
    "rmse = float(format(np.sqrt(mean_squared_error(y_test, y_pred)),'.3f'))\n",
    "print(\"\\nRMSE:\",rmse)"
   ]
  },
  {
   "cell_type": "code",
   "execution_count": 142,
   "id": "80c995b5",
   "metadata": {},
   "outputs": [
    {
     "data": {
      "text/plain": [
       "-0.7182455686179879"
      ]
     },
     "execution_count": 142,
     "metadata": {},
     "output_type": "execute_result"
    }
   ],
   "source": [
    "# Evaluating Decision Tree Regressor using Cross Validation\n",
    "\n",
    "np.mean(cross_val_score(model, X, y, cv=5))"
   ]
  },
  {
   "cell_type": "code",
   "execution_count": 143,
   "id": "7c679333",
   "metadata": {},
   "outputs": [],
   "source": [
    "# (4) Support Vector Machine\n",
    "\n",
    "X = data[['Revenues_22', 'Rev_Change', 'Profits_Change', 'Assets', 'Market_V', 'Employees']]\n",
    "y = data['Profits_22']"
   ]
  },
  {
   "cell_type": "code",
   "execution_count": 144,
   "id": "c88b09cb",
   "metadata": {},
   "outputs": [],
   "source": [
    "# Splitting the dataset into training and testing set (70/30)\n",
    "X_train, X_test, y_train, y_test = train_test_split(X, y, test_size = 0.3, random_state = 28)"
   ]
  },
  {
   "cell_type": "code",
   "execution_count": 145,
   "id": "4c0cdaf8",
   "metadata": {},
   "outputs": [],
   "source": [
    "# Modelling\n",
    "\n",
    "from sklearn.svm import SVR\n",
    "regressor= SVR(kernel='rbf')\n",
    "regressor.fit(X_train,y_train)\n",
    "y_pred_svm=regressor.predict(X_test)\n",
    "\n",
    "#y_pred_svm = cross_val_predict(regressor, x, y)\n",
    "mae=metrics.mean_absolute_error(y_test, y_pred_svm)\n",
    "mse=metrics.mean_squared_error(y_test, y_pred_svm)"
   ]
  },
  {
   "cell_type": "code",
   "execution_count": 146,
   "id": "ac54f7ef",
   "metadata": {},
   "outputs": [
    {
     "name": "stdout",
     "output_type": "stream",
     "text": [
      "Suppport Vector Regression Accuracy:  -0.048221192033770954\n",
      "R2 square: -0.048221192033770954\n",
      "MAE:  2026.3575599022195\n",
      "MSE:  40409663.130678155\n"
     ]
    }
   ],
   "source": [
    "# Printing the metrics\n",
    "print('Suppport Vector Regression Accuracy: ', regressor.score(X_test,y_test))\n",
    "print('R2 square:',metrics.r2_score(y_test, y_pred_svm))\n",
    "print('MAE: ', mae)\n",
    "print('MSE: ', mse)"
   ]
  },
  {
   "cell_type": "code",
   "execution_count": 147,
   "id": "b5e3e53a",
   "metadata": {},
   "outputs": [
    {
     "data": {
      "text/html": [
       "<div>\n",
       "<style scoped>\n",
       "    .dataframe tbody tr th:only-of-type {\n",
       "        vertical-align: middle;\n",
       "    }\n",
       "\n",
       "    .dataframe tbody tr th {\n",
       "        vertical-align: top;\n",
       "    }\n",
       "\n",
       "    .dataframe thead th {\n",
       "        text-align: right;\n",
       "    }\n",
       "</style>\n",
       "<table border=\"1\" class=\"dataframe\">\n",
       "  <thead>\n",
       "    <tr style=\"text-align: right;\">\n",
       "      <th></th>\n",
       "      <th>Revenues_22</th>\n",
       "      <th>Rev_Change</th>\n",
       "      <th>Profits_Change</th>\n",
       "      <th>Assets</th>\n",
       "      <th>Market_V</th>\n",
       "      <th>Employees</th>\n",
       "      <th>Profit_22</th>\n",
       "      <th>prediction</th>\n",
       "    </tr>\n",
       "  </thead>\n",
       "  <tbody>\n",
       "    <tr>\n",
       "      <th>63</th>\n",
       "      <td>54968.0</td>\n",
       "      <td>0.426</td>\n",
       "      <td>4.152000</td>\n",
       "      <td>62990.0</td>\n",
       "      <td>46839.700000</td>\n",
       "      <td>35700.0</td>\n",
       "      <td>6311.0</td>\n",
       "      <td>364.015236</td>\n",
       "    </tr>\n",
       "    <tr>\n",
       "      <th>312</th>\n",
       "      <td>12149.0</td>\n",
       "      <td>-0.025</td>\n",
       "      <td>-0.088000</td>\n",
       "      <td>6238.0</td>\n",
       "      <td>44727.212565</td>\n",
       "      <td>28800.0</td>\n",
       "      <td>753.0</td>\n",
       "      <td>722.298821</td>\n",
       "    </tr>\n",
       "    <tr>\n",
       "      <th>392</th>\n",
       "      <td>8910.6</td>\n",
       "      <td>0.548</td>\n",
       "      <td>0.814569</td>\n",
       "      <td>8517.7</td>\n",
       "      <td>8062.000000</td>\n",
       "      <td>7750.0</td>\n",
       "      <td>1296.7</td>\n",
       "      <td>5001.190000</td>\n",
       "    </tr>\n",
       "    <tr>\n",
       "      <th>955</th>\n",
       "      <td>2311.3</td>\n",
       "      <td>0.152</td>\n",
       "      <td>0.738000</td>\n",
       "      <td>118445.4</td>\n",
       "      <td>18416.900000</td>\n",
       "      <td>1854.0</td>\n",
       "      <td>918.4</td>\n",
       "      <td>163.653341</td>\n",
       "    </tr>\n",
       "    <tr>\n",
       "      <th>179</th>\n",
       "      <td>19534.7</td>\n",
       "      <td>0.108</td>\n",
       "      <td>0.814569</td>\n",
       "      <td>8925.4</td>\n",
       "      <td>4016.900000</td>\n",
       "      <td>14500.0</td>\n",
       "      <td>193.1</td>\n",
       "      <td>3558.766224</td>\n",
       "    </tr>\n",
       "    <tr>\n",
       "      <th>622</th>\n",
       "      <td>4799.7</td>\n",
       "      <td>0.347</td>\n",
       "      <td>15.096000</td>\n",
       "      <td>2345.0</td>\n",
       "      <td>4185.400000</td>\n",
       "      <td>17662.0</td>\n",
       "      <td>455.1</td>\n",
       "      <td>428.651267</td>\n",
       "    </tr>\n",
       "    <tr>\n",
       "      <th>846</th>\n",
       "      <td>2928.0</td>\n",
       "      <td>0.659</td>\n",
       "      <td>2.860000</td>\n",
       "      <td>2210.1</td>\n",
       "      <td>4415.600000</td>\n",
       "      <td>3700.0</td>\n",
       "      <td>587.9</td>\n",
       "      <td>3517.758333</td>\n",
       "    </tr>\n",
       "    <tr>\n",
       "      <th>632</th>\n",
       "      <td>4734.0</td>\n",
       "      <td>0.155</td>\n",
       "      <td>1.975000</td>\n",
       "      <td>7416.3</td>\n",
       "      <td>24477.200000</td>\n",
       "      <td>16600.0</td>\n",
       "      <td>793.6</td>\n",
       "      <td>676.647934</td>\n",
       "    </tr>\n",
       "    <tr>\n",
       "      <th>653</th>\n",
       "      <td>4462.4</td>\n",
       "      <td>0.503</td>\n",
       "      <td>0.814569</td>\n",
       "      <td>22108.6</td>\n",
       "      <td>60795.700000</td>\n",
       "      <td>6712.0</td>\n",
       "      <td>-421.0</td>\n",
       "      <td>48.739473</td>\n",
       "    </tr>\n",
       "    <tr>\n",
       "      <th>102</th>\n",
       "      <td>34816.0</td>\n",
       "      <td>0.089</td>\n",
       "      <td>0.358000</td>\n",
       "      <td>120466.0</td>\n",
       "      <td>44129.400000</td>\n",
       "      <td>30492.0</td>\n",
       "      <td>3662.0</td>\n",
       "      <td>1242.854090</td>\n",
       "    </tr>\n",
       "  </tbody>\n",
       "</table>\n",
       "</div>"
      ],
      "text/plain": [
       "     Revenues_22  Rev_Change  Profits_Change    Assets      Market_V  \\\n",
       "63       54968.0       0.426        4.152000   62990.0  46839.700000   \n",
       "312      12149.0      -0.025       -0.088000    6238.0  44727.212565   \n",
       "392       8910.6       0.548        0.814569    8517.7   8062.000000   \n",
       "955       2311.3       0.152        0.738000  118445.4  18416.900000   \n",
       "179      19534.7       0.108        0.814569    8925.4   4016.900000   \n",
       "622       4799.7       0.347       15.096000    2345.0   4185.400000   \n",
       "846       2928.0       0.659        2.860000    2210.1   4415.600000   \n",
       "632       4734.0       0.155        1.975000    7416.3  24477.200000   \n",
       "653       4462.4       0.503        0.814569   22108.6  60795.700000   \n",
       "102      34816.0       0.089        0.358000  120466.0  44129.400000   \n",
       "\n",
       "     Employees  Profit_22   prediction  \n",
       "63     35700.0     6311.0   364.015236  \n",
       "312    28800.0      753.0   722.298821  \n",
       "392     7750.0     1296.7  5001.190000  \n",
       "955     1854.0      918.4   163.653341  \n",
       "179    14500.0      193.1  3558.766224  \n",
       "622    17662.0      455.1   428.651267  \n",
       "846     3700.0      587.9  3517.758333  \n",
       "632    16600.0      793.6   676.647934  \n",
       "653     6712.0     -421.0    48.739473  \n",
       "102    30492.0     3662.0  1242.854090  "
      ]
     },
     "execution_count": 147,
     "metadata": {},
     "output_type": "execute_result"
    }
   ],
   "source": [
    "svm_result = X_test\n",
    "svm_result['Profit_22'] = y_test\n",
    "svm_result['prediction'] = predictions.tolist()\n",
    "svm_result.head(10)"
   ]
  },
  {
   "cell_type": "code",
   "execution_count": 149,
   "id": "6eb22583",
   "metadata": {},
   "outputs": [
    {
     "data": {
      "text/plain": [
       "-0.33114044441270113"
      ]
     },
     "execution_count": 149,
     "metadata": {},
     "output_type": "execute_result"
    }
   ],
   "source": [
    "# Evaluating SVM Regressor using Cross Validation\n",
    "\n",
    "np.mean(cross_val_score(regressor, X, y, cv=5))"
   ]
  },
  {
   "cell_type": "code",
   "execution_count": null,
   "id": "3ad1ae57",
   "metadata": {},
   "outputs": [],
   "source": [
    "# Out of the four models, the best performing model is the Random Forest Regressor with highest cross validation of 0.056 followed by Linear regression on second with cross validation 0.008 "
   ]
  }
 ],
 "metadata": {
  "kernelspec": {
   "display_name": "Python 3 (ipykernel)",
   "language": "python",
   "name": "python3"
  },
  "language_info": {
   "codemirror_mode": {
    "name": "ipython",
    "version": 3
   },
   "file_extension": ".py",
   "mimetype": "text/x-python",
   "name": "python",
   "nbconvert_exporter": "python",
   "pygments_lexer": "ipython3",
   "version": "3.9.12"
  }
 },
 "nbformat": 4,
 "nbformat_minor": 5
}
